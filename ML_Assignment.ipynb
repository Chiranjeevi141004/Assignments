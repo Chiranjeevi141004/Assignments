{
  "nbformat": 4,
  "nbformat_minor": 0,
  "metadata": {
    "colab": {
      "provenance": [],
      "authorship_tag": "ABX9TyNy3gTExJk6rT41sa5MD9CJ",
      "include_colab_link": true
    },
    "kernelspec": {
      "name": "python3",
      "display_name": "Python 3"
    },
    "language_info": {
      "name": "python"
    }
  },
  "cells": [
    {
      "cell_type": "markdown",
      "metadata": {
        "id": "view-in-github",
        "colab_type": "text"
      },
      "source": [
        "<a href=\"https://colab.research.google.com/github/Chiranjeevi141004/Assignments/blob/main/ML_Assignment.ipynb\" target=\"_parent\"><img src=\"https://colab.research.google.com/assets/colab-badge.svg\" alt=\"Open In Colab\"/></a>"
      ]
    },
    {
      "cell_type": "markdown",
      "source": [
        "1.Given a list of numbers with some missing values represented as None, replace the\n",
        "missing values with the mean of the non-missing numbers."
      ],
      "metadata": {
        "id": "DZtbYWAGjAHI"
      }
    },
    {
      "cell_type": "code",
      "execution_count": null,
      "metadata": {
        "colab": {
          "base_uri": "https://localhost:8080/"
        },
        "id": "2gx5niZFgu4E",
        "outputId": "7b55be46-436f-4c6a-ff8a-a299324587b3"
      },
      "outputs": [
        {
          "output_type": "stream",
          "name": "stdout",
          "text": [
            "Enter a list of numbers (use 'none' or 'None' for missing values): 23,none,44,none,32\n",
            "Given Input: [23.0, None, 44.0, None, 32.0]\n",
            "Output List: [23.0, 33.0, 44.0, 33.0, 32.0]\n"
          ]
        }
      ],
      "source": [
        "numbers = input(\"Enter a list of numbers (use 'none' or 'None' for missing values): \").split(',')\n",
        "numbers = [float(num.strip()) if num.strip().lower() != 'none' else None for num in numbers]\n",
        "print(\"Given Input:\",numbers)\n",
        "mean_value = sum(filter(None, numbers)) / len(list(filter(None, numbers)))\n",
        "result = [mean_value if x is None else x for x in numbers]\n",
        "print(\"Output List:\",result)\n"
      ]
    },
    {
      "cell_type": "markdown",
      "source": [
        "2.Implement a function to scale a list of numbers using Min-Max Scaling. Use the\n",
        "formula:\n",
        "scaled(x) = x-min/max-min."
      ],
      "metadata": {
        "id": "b2UuRSmfjHNR"
      }
    },
    {
      "cell_type": "code",
      "source": [
        "def min_max_scaling(numbers):\n",
        "    min_val = min(numbers)\n",
        "    max_val = max(numbers)\n",
        "    return [(x - min_val) / (max_val - min_val) for x in numbers]\n",
        "\n",
        "numbers = input(\"Enter a list of numbers separated by commas: \").split(',')\n",
        "numbers = [float(num.strip()) for num in numbers]\n",
        "scaled_numbers = min_max_scaling(numbers)\n",
        "print(scaled_numbers)\n"
      ],
      "metadata": {
        "colab": {
          "base_uri": "https://localhost:8080/"
        },
        "id": "iW-wBeYwi_c0",
        "outputId": "32a03c7e-9b8c-4250-fffb-e0c582f6d65b"
      },
      "execution_count": null,
      "outputs": [
        {
          "output_type": "stream",
          "name": "stdout",
          "text": [
            "Enter a list of numbers separated by commas: 3,2,4,5,5,3,4,5\n",
            "[0.3333333333333333, 0.0, 0.6666666666666666, 1.0, 1.0, 0.3333333333333333, 0.6666666666666666, 1.0]\n"
          ]
        }
      ]
    },
    {
      "cell_type": "code",
      "source": [
        "def binarize(a,b):\n",
        "    s=[]\n",
        "    for i in a:\n",
        "        if i>= b:\n",
        "            s.append(1)\n",
        "        else:\n",
        "            s.append(0)\n",
        "    return s\n",
        "a=list(map(float,input(\"Enter list elements : \").split(\" \")))\n",
        "print(a)\n",
        "b = float(input(\"Threshold  value: \"))\n",
        "print(b)\n",
        "v = binarize(a,b)\n",
        "print(v)"
      ],
      "metadata": {
        "colab": {
          "base_uri": "https://localhost:8080/"
        },
        "id": "PWSk66B5psfr",
        "outputId": "2cf7fa33-5872-40b8-eb1d-738afce154ed"
      },
      "execution_count": null,
      "outputs": [
        {
          "output_type": "stream",
          "name": "stdout",
          "text": [
            "Enter list elements : 2 4 3 4 6 7 8 6\n",
            "[2.0, 4.0, 3.0, 4.0, 6.0, 7.0, 8.0, 6.0]\n",
            "Threshold  value: 3\n",
            "3.0\n",
            "[0, 1, 1, 1, 1, 1, 1, 1]\n"
          ]
        }
      ]
    },
    {
      "cell_type": "markdown",
      "source": [
        "4.Given a function f(x)=2x+3, write a function to approximate f(x) by calculating the outputs for a given list of inputs."
      ],
      "metadata": {
        "id": "Nxbxl5qkj_Lc"
      }
    },
    {
      "cell_type": "code",
      "source": [
        "def approximate_function(inputs):\n",
        "    return [2 * x + 3 for x in inputs]\n",
        "\n",
        "inputs = input(\"Enter a list of numbers separated by commas: \").split(',')\n",
        "inputs = [float(num.strip()) for num in inputs]\n",
        "outputs = approximate_function(inputs)\n",
        "print(outputs)\n"
      ],
      "metadata": {
        "colab": {
          "base_uri": "https://localhost:8080/"
        },
        "id": "O5enCUZGkAES",
        "outputId": "a4d10837-8aa1-4cb8-a896-4ec4fd1cd42a"
      },
      "execution_count": null,
      "outputs": [
        {
          "output_type": "stream",
          "name": "stdout",
          "text": [
            "Enter a list of numbers separated by commas: 2,3,4,3,6,5,7,8,9,4\n",
            "[7.0, 9.0, 11.0, 9.0, 15.0, 13.0, 17.0, 19.0, 21.0, 11.0]\n"
          ]
        }
      ]
    },
    {
      "cell_type": "markdown",
      "source": [
        "5.Write a function to standardize a list of numbers by subtracting the mean and dividing by the standard deviation."
      ],
      "metadata": {
        "id": "BniSR_bykW9P"
      }
    },
    {
      "cell_type": "code",
      "source": [
        "def standardize(numbers):\n",
        "    mean = sum(numbers) / len(numbers)\n",
        "    std_dev = (sum([(x - mean) ** 2 for x in numbers]) / len(numbers)) ** 0.5\n",
        "    return [(x - mean) / std_dev for x in numbers]\n",
        "\n",
        "numbers = input(\"Enter a list of numbers separated by commas: \").split(',')\n",
        "numbers = [float(num.strip()) for num in numbers]\n",
        "standardized_numbers = standardize(numbers)\n",
        "print(standardized_numbers)\n"
      ],
      "metadata": {
        "colab": {
          "base_uri": "https://localhost:8080/"
        },
        "id": "IwisgrzwkXwq",
        "outputId": "7dbd5644-ebde-4627-98b0-bd06af263936"
      },
      "execution_count": null,
      "outputs": [
        {
          "output_type": "stream",
          "name": "stdout",
          "text": [
            "Enter a list of numbers separated by commas: 3,4,5,6,7\n",
            "[-1.414213562373095, -0.7071067811865475, 0.0, 0.7071067811865475, 1.414213562373095]\n"
          ]
        }
      ]
    },
    {
      "cell_type": "markdown",
      "source": [
        "6.Given a list of data points and their corresponding labels, create a concept\n",
        "representation as a dictionary where keys are unique labels and values are lists of points belonging to each label."
      ],
      "metadata": {
        "id": "J-jw4yQnk3UE"
      }
    },
    {
      "cell_type": "code",
      "source": [
        "def create_concept_representation(data_points, labels):\n",
        "    concept_dict = {}\n",
        "    for label, point in zip(labels, data_points):\n",
        "        if label in concept_dict:\n",
        "            concept_dict[label].append(point)\n",
        "        else:\n",
        "            concept_dict[label] = [point]\n",
        "    return concept_dict\n",
        "\n",
        "data_points = input(\"Enter data points separated by commas: \").split(',')\n",
        "data_points = [float(point.strip()) for point in data_points]\n",
        "labels = input(\"Enter corresponding labels separated by commas: \").split(',')\n",
        "concept_representation = create_concept_representation(data_points, labels)\n",
        "print(concept_representation)\n"
      ],
      "metadata": {
        "colab": {
          "base_uri": "https://localhost:8080/"
        },
        "id": "cd7ZAyUFk4EU",
        "outputId": "d187ec87-71e9-491c-cd98-ddbde0f8297c"
      },
      "execution_count": null,
      "outputs": [
        {
          "output_type": "stream",
          "name": "stdout",
          "text": [
            "Enter data points separated by commas: 1,2,3,4,5\n",
            "Enter corresponding labels separated by commas: A,B,C,D,E\n",
            "{'A': [1.0], 'B': [2.0], 'C': [3.0], 'D': [4.0], 'E': [5.0]}\n"
          ]
        }
      ]
    },
    {
      "cell_type": "markdown",
      "source": [
        "7.Write a function that categorizes a given machine learning task based on its\n",
        "description. The categories are \"Supervised Learning\" or \"Unsupervised Learning\"  "
      ],
      "metadata": {
        "id": "JMOjH30ulTuT"
      }
    },
    {
      "cell_type": "code",
      "source": [
        "def categorize_ml_task(description):\n",
        "    if any(keyword in description.lower() for keyword in [\"labeled\", \"labels\", \"target\", \"classification\", \"regression\"]):\n",
        "        return \"Supervised Learning\"\n",
        "    else:\n",
        "        return \"Unsupervised Learning\"\n",
        "\n",
        "description = input(\"Enter the task description: \")\n",
        "category = categorize_ml_task(description)\n",
        "print(category)\n"
      ],
      "metadata": {
        "colab": {
          "base_uri": "https://localhost:8080/"
        },
        "id": "3hE0IvzflaES",
        "outputId": "48e9af1f-6fbb-4b00-983f-0997e8523b5d"
      },
      "execution_count": null,
      "outputs": [
        {
          "output_type": "stream",
          "name": "stdout",
          "text": [
            "Enter the task description: chiru is good  boy\n",
            "Unsupervised Learning\n"
          ]
        }
      ]
    },
    {
      "cell_type": "markdown",
      "source": [
        "8."
      ],
      "metadata": {
        "id": "PEywMhiOlvZo"
      }
    },
    {
      "cell_type": "code",
      "source": [
        "def categorize(d):\n",
        "    supervised = [\"predict\", \"classification\", \"regression\", \"labeled data\",\n",
        "                           \"labels\"]\n",
        "    unsupervised = [\"cluster\", \"clustering\", \"group\", \"pattern\", \"dimensionality reduction\", \"unsupervised\"]\n",
        "    for i in supervised:\n",
        "        if i in d.lower():\n",
        "            return \"Supervised Learning\"\n",
        "    for j in unsupervised:\n",
        "        if j in d.lower():\n",
        "            return \"Unsupervised Learning\"\n",
        "a = input(\"Description: \")\n",
        "print(a)\n",
        "g = categorize(a)\n",
        "print(g)"
      ],
      "metadata": {
        "id": "A_dhMbLGlv-r",
        "colab": {
          "base_uri": "https://localhost:8080/"
        },
        "outputId": "1f264b25-6fb6-431b-f6d2-55031ba2421c"
      },
      "execution_count": null,
      "outputs": [
        {
          "output_type": "stream",
          "name": "stdout",
          "text": [
            "Description: Group customers based on their purchasing patterns.\n",
            "Group customers based on their purchasing patterns.\n",
            "Unsupervised Learning\n"
          ]
        }
      ]
    },
    {
      "cell_type": "code",
      "source": [
        "def y_value(m,c,x):\n",
        "    y = m*x+c\n",
        "    return y\n",
        "m = 6.9\n",
        "c = 9.0\n",
        "x = float(input(\"X value: \"))\n",
        "print(x)\n",
        "print(\"Predicted y value :\",y_value(m,c,x))"
      ],
      "metadata": {
        "colab": {
          "base_uri": "https://localhost:8080/"
        },
        "id": "I4ONXM3VoUuQ",
        "outputId": "ca40c4e6-3488-4c81-d60a-5ef06c173c2c"
      },
      "execution_count": null,
      "outputs": [
        {
          "output_type": "stream",
          "name": "stdout",
          "text": [
            "X value: 4.8\n",
            "4.8\n",
            "Predicted y value : 42.12\n"
          ]
        }
      ]
    },
    {
      "cell_type": "code",
      "source": [
        "def array_sort(a):\n",
        "    b = sorted(set(a))\n",
        "    return b\n",
        "a = list(map(int,input(\"Enter the array elemrnts: \").split(\" \")))\n",
        "print(a)\n",
        "b = array_sort(a)\n",
        "print(b)"
      ],
      "metadata": {
        "colab": {
          "base_uri": "https://localhost:8080/"
        },
        "id": "pwfimDs7oVT2",
        "outputId": "407ff71e-a137-4978-fcfc-595edbac2b15"
      },
      "execution_count": null,
      "outputs": [
        {
          "output_type": "stream",
          "name": "stdout",
          "text": [
            "Enter the array elemrnts: 4 5 6 5 5 4 5 3 3 4 6 7\n",
            "[4, 5, 6, 5, 5, 4, 5, 3, 3, 4, 6, 7]\n",
            "[3, 4, 5, 6, 7]\n"
          ]
        }
      ]
    }
  ]
}